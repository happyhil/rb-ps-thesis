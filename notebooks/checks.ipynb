{
 "cells": [
  {
   "cell_type": "code",
   "execution_count": null,
   "id": "musical-cruise",
   "metadata": {},
   "outputs": [],
   "source": [
    "import pandas as pd"
   ]
  },
  {
   "cell_type": "code",
   "execution_count": null,
   "id": "reserved-scott",
   "metadata": {},
   "outputs": [],
   "source": [
    "df = pd.read_csv('../data/v2_BabyStudy2_16jan21.csv', sep=';')"
   ]
  },
  {
   "cell_type": "code",
   "execution_count": null,
   "id": "alternate-sacramento",
   "metadata": {},
   "outputs": [],
   "source": [
    "gender_column = ['gender']\n",
    "brosis_column = ['siblings']\n",
    "prosocial_columns = [\n",
    "#     'PV_protest_new',\n",
    "    'PV_protest_new_yn',\n",
    "#     'PV_tattling_new',\n",
    "    'PV_tattling_new_yn',\n",
    "#     'PV_prosocial_new',\n",
    "    'PV_prosocial_new_yn',\n",
    "#     'Total_prosocial_new_sum',\n",
    "#     'Total_prosocial_new_yn',\n",
    "#     'filter_$'\n",
    "]"
   ]
  },
  {
   "cell_type": "code",
   "execution_count": null,
   "id": "bizarre-albany",
   "metadata": {},
   "outputs": [],
   "source": [
    "[x for x in df.columns][:5]"
   ]
  },
  {
   "cell_type": "code",
   "execution_count": null,
   "id": "chinese-despite",
   "metadata": {},
   "outputs": [],
   "source": [
    "needed_columns = gender_column + brosis_column + prosocial_columns"
   ]
  },
  {
   "cell_type": "code",
   "execution_count": null,
   "id": "ancient-clause",
   "metadata": {},
   "outputs": [],
   "source": [
    "df_select = df[needed_columns].copy()"
   ]
  },
  {
   "cell_type": "code",
   "execution_count": null,
   "id": "statistical-relative",
   "metadata": {},
   "outputs": [],
   "source": [
    "df_select"
   ]
  },
  {
   "cell_type": "code",
   "execution_count": null,
   "id": "collaborative-rwanda",
   "metadata": {},
   "outputs": [],
   "source": [
    "df_select.groupby('PV_tattling_new')[['gender']].count()"
   ]
  }
 ],
 "metadata": {
  "kernelspec": {
   "display_name": "Python 3",
   "language": "python",
   "name": "python3"
  },
  "language_info": {
   "codemirror_mode": {
    "name": "ipython",
    "version": 3
   },
   "file_extension": ".py",
   "mimetype": "text/x-python",
   "name": "python",
   "nbconvert_exporter": "python",
   "pygments_lexer": "ipython3",
   "version": "3.8.8"
  }
 },
 "nbformat": 4,
 "nbformat_minor": 5
}
