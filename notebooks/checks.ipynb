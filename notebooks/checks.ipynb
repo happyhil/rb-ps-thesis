{
 "cells": [
  {
   "cell_type": "code",
   "execution_count": null,
   "id": "numeric-tactics",
   "metadata": {},
   "outputs": [],
   "source": [
    "import pandas as pd"
   ]
  },
  {
   "cell_type": "code",
   "execution_count": null,
   "id": "historic-finance",
   "metadata": {},
   "outputs": [],
   "source": [
    "df = pd.read_csv('../data/v2_BabyStudy2_16jan21.csv', sep=';')"
   ]
  },
  {
   "cell_type": "code",
   "execution_count": null,
   "id": "minus-beaver",
   "metadata": {},
   "outputs": [],
   "source": [
    "gender_column = ['gender']\n",
    "brosis_column = ['siblings']\n",
    "prosocial_columns = [\n",
    "#     'PV_protest_new',\n",
    "    'PV_protest_new_yn',\n",
    "#     'PV_tattling_new',\n",
    "    'PV_tattling_new_yn',\n",
    "#     'PV_prosocial_new',\n",
    "    'PV_prosocial_new_yn',\n",
    "#     'Total_prosocial_new_sum',\n",
    "#     'Total_prosocial_new_yn',\n",
    "#     'filter_$'\n",
    "]"
   ]
  },
  {
   "cell_type": "code",
   "execution_count": null,
   "id": "commercial-slovenia",
   "metadata": {},
   "outputs": [],
   "source": [
    "[x for x in df.columns][:5]"
   ]
  },
  {
   "cell_type": "code",
   "execution_count": null,
   "id": "higher-supervision",
   "metadata": {},
   "outputs": [],
   "source": [
    "needed_columns = gender_column + brosis_column + prosocial_columns"
   ]
  },
  {
   "cell_type": "code",
   "execution_count": null,
   "id": "robust-smell",
   "metadata": {},
   "outputs": [],
   "source": [
    "df_select = df[needed_columns].copy()"
   ]
  },
  {
   "cell_type": "code",
   "execution_count": null,
   "id": "peaceful-warren",
   "metadata": {},
   "outputs": [],
   "source": [
    "df_select"
   ]
  },
  {
   "cell_type": "code",
   "execution_count": null,
   "id": "protected-sensitivity",
   "metadata": {},
   "outputs": [],
   "source": [
    "df_select.groupby('PV_tattling_new')[['gender']].count()"
   ]
  }
 ],
 "metadata": {
  "kernelspec": {
   "display_name": "Python 3",
   "language": "python",
   "name": "python3"
  },
  "language_info": {
   "codemirror_mode": {
    "name": "ipython",
    "version": 3
   },
   "file_extension": ".py",
   "mimetype": "text/x-python",
   "name": "python",
   "nbconvert_exporter": "python",
   "pygments_lexer": "ipython3",
   "version": "3.8.9"
  }
 },
 "nbformat": 4,
 "nbformat_minor": 5
}
