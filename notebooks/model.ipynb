{
 "cells": [
  {
   "cell_type": "code",
   "execution_count": null,
   "id": "fabulous-collaboration",
   "metadata": {},
   "outputs": [],
   "source": [
    "import pandas as pd\n",
    "from scipy.stats import ttest_ind, chi2_contingency\n",
    "import statsmodels.api as sm"
   ]
  },
  {
   "cell_type": "code",
   "execution_count": null,
   "id": "distributed-facial",
   "metadata": {},
   "outputs": [],
   "source": [
    "df = pd.read_csv('../data/v2_BabyStudy2_16jan21.csv', sep=';')"
   ]
  },
  {
   "cell_type": "code",
   "execution_count": null,
   "id": "removed-daisy",
   "metadata": {},
   "outputs": [],
   "source": [
    "gender_column = ['gender']\n",
    "brosis_column = ['siblings']\n",
    "prosocial_columns = [\n",
    "    'PV_protest_new_yn',\n",
    "    'PV_tattling_new_yn',\n",
    "    'PV_prosocial_new_yn',\n",
    "]\n",
    "needed_columns = gender_column + brosis_column + prosocial_columns"
   ]
  },
  {
   "cell_type": "code",
   "execution_count": null,
   "id": "efficient-stroke",
   "metadata": {},
   "outputs": [],
   "source": [
    "df_select = df[needed_columns].copy()\n",
    "df_select['constant'] = 1\n",
    "df_select['siblings_yn'] = 0\n",
    "df_select.loc[lambda x: x['siblings']>0, 'siblings_yn'] = 1"
   ]
  },
  {
   "cell_type": "code",
   "execution_count": null,
   "id": "hollywood-merit",
   "metadata": {},
   "outputs": [],
   "source": [
    "for c in df_select.columns:\n",
    "    df_select = df_select.loc[lambda x: ~x[c].isnull()]\n",
    "    df_select = df_select.loc[lambda x: x[c]!='']\n",
    "    df_select = df_select.loc[lambda x: x[c]!=' ']\n",
    "    df_select[c] = df_select[c].astype(int)"
   ]
  },
  {
   "cell_type": "markdown",
   "id": "municipal-berkeley",
   "metadata": {},
   "source": [
    "### check 0 ==> general checks"
   ]
  },
  {
   "cell_type": "code",
   "execution_count": null,
   "id": "transsexual-wrestling",
   "metadata": {},
   "outputs": [],
   "source": [
    "df_select[:5]"
   ]
  },
  {
   "cell_type": "markdown",
   "id": "ambient-smile",
   "metadata": {},
   "source": [
    "### check 1 ==> gender x pro-social ==> indepedent sample T test"
   ]
  },
  {
   "cell_type": "code",
   "execution_count": null,
   "id": "flying-museum",
   "metadata": {},
   "outputs": [],
   "source": [
    "group1_male = df_select.loc[lambda x: x['gender']==1].copy()\n",
    "group2_female = df_select.loc[lambda x: x['gender']==2].copy()"
   ]
  },
  {
   "cell_type": "markdown",
   "id": "conservative-nevada",
   "metadata": {},
   "source": [
    "#### - t test"
   ]
  },
  {
   "cell_type": "code",
   "execution_count": null,
   "id": "completed-president",
   "metadata": {},
   "outputs": [],
   "source": [
    "for p in prosocial_columns:\n",
    "    print(f'-> {p}:')\n",
    "    result = ttest_ind(group1_male[p], group2_female[p])\n",
    "    print(f'==> t-statistic {round(result[1], 4)}')\n",
    "    print(f'==> P-value {round(result[1], 4)}\\n')"
   ]
  },
  {
   "cell_type": "markdown",
   "id": "inside-birmingham",
   "metadata": {},
   "source": [
    "#### - chi square test"
   ]
  },
  {
   "cell_type": "code",
   "execution_count": null,
   "id": "worth-breakfast",
   "metadata": {},
   "outputs": [],
   "source": [
    "for p in prosocial_columns:\n",
    "    print(f'-> {p}:')\n",
    "    crosstable = pd.crosstab(df_select['gender'], df[p]) \n",
    "    c, p, dof, expected = chi2_contingency(crosstable)\n",
    "    print(f'==> P-value {round(p, 4)}\\n')"
   ]
  },
  {
   "cell_type": "markdown",
   "id": "massive-turkish",
   "metadata": {},
   "source": [
    "### check 2 ==> brosis x pro-social ==> logistic regression"
   ]
  },
  {
   "cell_type": "code",
   "execution_count": null,
   "id": "bearing-chancellor",
   "metadata": {},
   "outputs": [],
   "source": [
    "dfcheck = df_select.groupby(['siblings', 'PV_prosocial_new_yn'], as_index=False)[['gender']].count()"
   ]
  },
  {
   "cell_type": "code",
   "execution_count": null,
   "id": "nonprofit-mortgage",
   "metadata": {},
   "outputs": [],
   "source": [
    "for s in dfcheck['siblings'].unique():\n",
    "    dfcheck.loc[lambda x: x['siblings']==s, 'share'] = dfcheck.loc[lambda x: x['siblings']==s]['gender'] / dfcheck.loc[lambda x: x['siblings']==s]['gender'].sum()\n",
    "# print(dfcheck)"
   ]
  },
  {
   "cell_type": "code",
   "execution_count": null,
   "id": "reported-delicious",
   "metadata": {},
   "outputs": [],
   "source": [
    "for p in prosocial_columns:\n",
    "    print(f'==> {p}: ==> \\n')\n",
    "\n",
    "    X_train = df_select[brosis_column + ['constant']]\n",
    "    y_train = df_select[[p]] \n",
    "    model = sm.Logit(y_train, X_train).fit() \n",
    "\n",
    "    print(model.summary())\n",
    "    print('\\n')"
   ]
  },
  {
   "cell_type": "markdown",
   "id": "revolutionary-spencer",
   "metadata": {},
   "source": [
    "### check 3 ==> moderation brosis -> gender x pro-social ==> PROCESS"
   ]
  },
  {
   "cell_type": "code",
   "execution_count": null,
   "id": "introductory-memphis",
   "metadata": {},
   "outputs": [],
   "source": [
    "from pyprocessmacro import Process"
   ]
  },
  {
   "cell_type": "code",
   "execution_count": null,
   "id": "early-billy",
   "metadata": {},
   "outputs": [],
   "source": [
    "for p in prosocial_columns:\n",
    "    print(f'==> {p}: ==>\\n')\n",
    "    print(' ')\n",
    "    model = Process(data=df_select,\n",
    "                    model=1,\n",
    "                    x=\"gender\",\n",
    "                    y=p,\n",
    "                    m=[\"siblings_yn\"])\n",
    "\n",
    "    print(model.summary())\n",
    "    print('\\n')"
   ]
  },
  {
   "cell_type": "markdown",
   "id": "gross-morris",
   "metadata": {},
   "source": [
    "### check 4 (extra) ==> moderation gender -> brosis x pro-social ==> PROCESS"
   ]
  },
  {
   "cell_type": "code",
   "execution_count": null,
   "id": "challenging-webcam",
   "metadata": {},
   "outputs": [],
   "source": [
    "from pyprocessmacro import Process"
   ]
  },
  {
   "cell_type": "code",
   "execution_count": null,
   "id": "toxic-minneapolis",
   "metadata": {},
   "outputs": [],
   "source": [
    "for p in prosocial_columns:\n",
    "    print(f'==> {p}: ==>\\n')\n",
    "    print(' ')\n",
    "    model = Process(data=df_select,\n",
    "                    model=1,\n",
    "                    x=\"siblings_yn\",\n",
    "                    y=p,\n",
    "                    m=[\"gender\"])\n",
    "\n",
    "    print(model.summary())\n",
    "    print('\\n')"
   ]
  }
 ],
 "metadata": {
  "kernelspec": {
   "display_name": "Python 3",
   "language": "python",
   "name": "python3"
  },
  "language_info": {
   "codemirror_mode": {
    "name": "ipython",
    "version": 3
   },
   "file_extension": ".py",
   "mimetype": "text/x-python",
   "name": "python",
   "nbconvert_exporter": "python",
   "pygments_lexer": "ipython3",
   "version": "3.8.8"
  }
 },
 "nbformat": 4,
 "nbformat_minor": 5
}
