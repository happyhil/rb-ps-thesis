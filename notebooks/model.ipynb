{
 "cells": [
  {
   "cell_type": "code",
   "execution_count": 1,
   "id": "elder-render",
   "metadata": {},
   "outputs": [],
   "source": [
    "import csv\n",
    "import numpy as np\n",
    "import pandas as pd\n",
    "from scipy.stats import ttest_ind, chi2_contingency\n",
    "import statsmodels.api as sm"
   ]
  },
  {
   "cell_type": "markdown",
   "id": "collective-water",
   "metadata": {},
   "source": [
    "## Read in data"
   ]
  },
  {
   "cell_type": "code",
   "execution_count": 2,
   "id": "apart-physiology",
   "metadata": {},
   "outputs": [],
   "source": [
    "df = pd.read_csv('../data/v2_BabyStudy2_16jan21.csv', sep=';')"
   ]
  },
  {
   "cell_type": "code",
   "execution_count": 3,
   "id": "spiritual-update",
   "metadata": {},
   "outputs": [
    {
     "name": "stdout",
     "output_type": "stream",
     "text": [
      "n obs by start: 54\n"
     ]
    }
   ],
   "source": [
    "print(f'n obs by start: {len(df)}')"
   ]
  },
  {
   "cell_type": "markdown",
   "id": "czech-formation",
   "metadata": {},
   "source": [
    "## prepare data"
   ]
  },
  {
   "cell_type": "code",
   "execution_count": 4,
   "id": "beginning-crossing",
   "metadata": {},
   "outputs": [],
   "source": [
    "gender_column = ['gender']\n",
    "brosis_column = ['siblings']\n",
    "prosocial_columns = [\n",
    "    'PV_protest_new_yn',\n",
    "    'PV_tattling_new_yn',\n",
    "    'PV_prosocial_new_yn',\n",
    "]\n",
    "needed_columns = gender_column + brosis_column + prosocial_columns"
   ]
  },
  {
   "cell_type": "code",
   "execution_count": 5,
   "id": "greatest-portrait",
   "metadata": {},
   "outputs": [],
   "source": [
    "for c in needed_columns:\n",
    "    df = df.loc[lambda x: ~x[c].isnull()]\n",
    "    df = df.loc[lambda x: x[c]!='']\n",
    "    df = df.loc[lambda x: x[c]!=' ']\n",
    "    df[c] = df[c].astype(int)"
   ]
  },
  {
   "cell_type": "code",
   "execution_count": 6,
   "id": "amazing-future",
   "metadata": {},
   "outputs": [],
   "source": [
    "df_select = df[needed_columns].copy()\n",
    "df_select['constant'] = 1\n",
    "df_select['siblings_yn'] = 0\n",
    "df_select.loc[lambda x: x['siblings']>0, 'siblings_yn'] = 1"
   ]
  },
  {
   "cell_type": "code",
   "execution_count": 7,
   "id": "studied-handy",
   "metadata": {},
   "outputs": [],
   "source": [
    "df.to_csv('../data/v2_BabyStudy2_16jan21_clean.csv', index=False, quoting=csv.QUOTE_NONNUMERIC, quotechar='\"')"
   ]
  },
  {
   "cell_type": "code",
   "execution_count": 8,
   "id": "hispanic-consumption",
   "metadata": {},
   "outputs": [
    {
     "name": "stdout",
     "output_type": "stream",
     "text": [
      "n obs after filer: 53\n"
     ]
    }
   ],
   "source": [
    "print(f'n obs after filer: {len(df_select)}')"
   ]
  },
  {
   "cell_type": "markdown",
   "id": "configured-million",
   "metadata": {},
   "source": [
    "### check 0 ==> general checks"
   ]
  },
  {
   "cell_type": "code",
   "execution_count": 9,
   "id": "powerful-combination",
   "metadata": {},
   "outputs": [
    {
     "data": {
      "text/html": [
       "<div>\n",
       "<style scoped>\n",
       "    .dataframe tbody tr th:only-of-type {\n",
       "        vertical-align: middle;\n",
       "    }\n",
       "\n",
       "    .dataframe tbody tr th {\n",
       "        vertical-align: top;\n",
       "    }\n",
       "\n",
       "    .dataframe thead th {\n",
       "        text-align: right;\n",
       "    }\n",
       "</style>\n",
       "<table border=\"1\" class=\"dataframe\">\n",
       "  <thead>\n",
       "    <tr style=\"text-align: right;\">\n",
       "      <th></th>\n",
       "      <th>gender</th>\n",
       "      <th>siblings</th>\n",
       "      <th>PV_protest_new_yn</th>\n",
       "      <th>PV_tattling_new_yn</th>\n",
       "      <th>PV_prosocial_new_yn</th>\n",
       "      <th>constant</th>\n",
       "      <th>siblings_yn</th>\n",
       "    </tr>\n",
       "  </thead>\n",
       "  <tbody>\n",
       "    <tr>\n",
       "      <th>1</th>\n",
       "      <td>1</td>\n",
       "      <td>3</td>\n",
       "      <td>0</td>\n",
       "      <td>0</td>\n",
       "      <td>0</td>\n",
       "      <td>1</td>\n",
       "      <td>1</td>\n",
       "    </tr>\n",
       "    <tr>\n",
       "      <th>2</th>\n",
       "      <td>2</td>\n",
       "      <td>1</td>\n",
       "      <td>0</td>\n",
       "      <td>0</td>\n",
       "      <td>0</td>\n",
       "      <td>1</td>\n",
       "      <td>1</td>\n",
       "    </tr>\n",
       "    <tr>\n",
       "      <th>3</th>\n",
       "      <td>1</td>\n",
       "      <td>2</td>\n",
       "      <td>0</td>\n",
       "      <td>0</td>\n",
       "      <td>0</td>\n",
       "      <td>1</td>\n",
       "      <td>1</td>\n",
       "    </tr>\n",
       "    <tr>\n",
       "      <th>4</th>\n",
       "      <td>2</td>\n",
       "      <td>1</td>\n",
       "      <td>0</td>\n",
       "      <td>0</td>\n",
       "      <td>0</td>\n",
       "      <td>1</td>\n",
       "      <td>1</td>\n",
       "    </tr>\n",
       "    <tr>\n",
       "      <th>5</th>\n",
       "      <td>1</td>\n",
       "      <td>1</td>\n",
       "      <td>0</td>\n",
       "      <td>0</td>\n",
       "      <td>0</td>\n",
       "      <td>1</td>\n",
       "      <td>1</td>\n",
       "    </tr>\n",
       "  </tbody>\n",
       "</table>\n",
       "</div>"
      ],
      "text/plain": [
       "   gender  siblings  PV_protest_new_yn  PV_tattling_new_yn  \\\n",
       "1       1         3                  0                   0   \n",
       "2       2         1                  0                   0   \n",
       "3       1         2                  0                   0   \n",
       "4       2         1                  0                   0   \n",
       "5       1         1                  0                   0   \n",
       "\n",
       "   PV_prosocial_new_yn  constant  siblings_yn  \n",
       "1                    0         1            1  \n",
       "2                    0         1            1  \n",
       "3                    0         1            1  \n",
       "4                    0         1            1  \n",
       "5                    0         1            1  "
      ]
     },
     "execution_count": 9,
     "metadata": {},
     "output_type": "execute_result"
    }
   ],
   "source": [
    "df_select[:5]"
   ]
  },
  {
   "cell_type": "markdown",
   "id": "compatible-nigeria",
   "metadata": {},
   "source": [
    "### check 1 ==> gender x pro-social ==> indepedent sample T test"
   ]
  },
  {
   "cell_type": "code",
   "execution_count": 11,
   "id": "peaceful-healing",
   "metadata": {},
   "outputs": [],
   "source": [
    "group1_male = df_select.loc[lambda x: x['gender']==1].copy()\n",
    "group2_female = df_select.loc[lambda x: x['gender']==2].copy()"
   ]
  },
  {
   "cell_type": "markdown",
   "id": "detected-spread",
   "metadata": {},
   "source": [
    "#### - t test"
   ]
  },
  {
   "cell_type": "code",
   "execution_count": 13,
   "id": "chemical-mentor",
   "metadata": {},
   "outputs": [
    {
     "name": "stdout",
     "output_type": "stream",
     "text": [
      "-> PV_protest_new_yn:\n",
      "==> t-statistic 0.8085\n",
      "==> P-value 0.8085\n",
      "\n",
      "-> PV_tattling_new_yn:\n",
      "==> t-statistic 0.2336\n",
      "==> P-value 0.2336\n",
      "\n",
      "-> PV_prosocial_new_yn:\n",
      "==> t-statistic 0.8965\n",
      "==> P-value 0.8965\n",
      "\n"
     ]
    }
   ],
   "source": [
    "for p in prosocial_columns:\n",
    "    print(f'-> {p}:')\n",
    "    result = ttest_ind(group1_male[p], group2_female[p])\n",
    "    print(f'==> t-statistic {round(result[1], 4)}')\n",
    "    print(f'==> P-value {round(result[1], 4)}\\n')"
   ]
  },
  {
   "cell_type": "markdown",
   "id": "spare-vienna",
   "metadata": {},
   "source": [
    "#### - chi square test"
   ]
  },
  {
   "cell_type": "code",
   "execution_count": 14,
   "id": "adjustable-dominican",
   "metadata": {},
   "outputs": [
    {
     "data": {
      "text/plain": [
       "gender  PV_prosocial_new_yn\n",
       "1       0                      27\n",
       "        1                       5\n",
       "2       0                      18\n",
       "        1                       3\n",
       "Name: siblings, dtype: int64"
      ]
     },
     "execution_count": 14,
     "metadata": {},
     "output_type": "execute_result"
    }
   ],
   "source": [
    "df_select.groupby(['gender', 'PV_prosocial_new_yn'])['siblings'].count()"
   ]
  },
  {
   "cell_type": "code",
   "execution_count": 15,
   "id": "plain-monthly",
   "metadata": {},
   "outputs": [
    {
     "name": "stdout",
     "output_type": "stream",
     "text": [
      "-> PV_protest_new_yn:\n",
      "==> P-value 0.9219\n",
      "\n",
      "-> PV_tattling_new_yn:\n",
      "==> P-value 0.3682\n",
      "\n",
      "-> PV_prosocial_new_yn:\n",
      "==> P-value 0.7956\n",
      "\n"
     ]
    }
   ],
   "source": [
    "for p in prosocial_columns:\n",
    "    print(f'-> {p}:')\n",
    "    crosstable = pd.crosstab(df_select['gender'], df[p]) \n",
    "    c, p, dof, expected = chi2_contingency(crosstable)\n",
    "    print(f'==> P-value {round(p, 4)}\\n')"
   ]
  },
  {
   "cell_type": "markdown",
   "id": "heard-aging",
   "metadata": {},
   "source": [
    "### check 2 ==> brosis x pro-social ==> logistic regression"
   ]
  },
  {
   "cell_type": "code",
   "execution_count": 16,
   "id": "received-token",
   "metadata": {},
   "outputs": [],
   "source": [
    "dfcheck = df_select.groupby(['siblings', 'PV_prosocial_new_yn'], as_index=False)[['gender']].count()"
   ]
  },
  {
   "cell_type": "code",
   "execution_count": 17,
   "id": "documented-helicopter",
   "metadata": {},
   "outputs": [],
   "source": [
    "for s in dfcheck['siblings'].unique():\n",
    "    dfcheck.loc[lambda x: x['siblings']==s, 'share'] = dfcheck.loc[lambda x: x['siblings']==s]['gender'] / dfcheck.loc[lambda x: x['siblings']==s]['gender'].sum()"
   ]
  },
  {
   "cell_type": "code",
   "execution_count": 20,
   "id": "identified-latest",
   "metadata": {},
   "outputs": [
    {
     "name": "stdout",
     "output_type": "stream",
     "text": [
      "===============> PV_protest_new_yn: ===============> \n",
      "\n",
      "Optimization terminated successfully.\n",
      "         Current function value: 0.506217\n",
      "         Iterations 5\n",
      "                           Logit Regression Results                           \n",
      "==============================================================================\n",
      "Dep. Variable:      PV_protest_new_yn   No. Observations:                   53\n",
      "Model:                          Logit   Df Residuals:                       51\n",
      "Method:                           MLE   Df Model:                            1\n",
      "Date:                Tue, 25 May 2021   Pseudo R-squ.:                0.008757\n",
      "Time:                        14:58:22   Log-Likelihood:                -26.829\n",
      "converged:                       True   LL-Null:                       -27.066\n",
      "Covariance Type:            nonrobust   LLR p-value:                    0.4911\n",
      "==============================================================================\n",
      "                 coef    std err          z      P>|z|      [0.025      0.975]\n",
      "------------------------------------------------------------------------------\n",
      "siblings       0.3041      0.440      0.692      0.489      -0.557       1.166\n",
      "constant      -1.6992      0.639     -2.658      0.008      -2.952      -0.446\n",
      "==============================================================================\n",
      "-- odds ratio:\n",
      "                OD\n",
      "siblings  1.355380\n",
      "constant  0.182826\n",
      "\n",
      "===============> PV_tattling_new_yn: ===============> \n",
      "\n",
      "Optimization terminated successfully.\n",
      "         Current function value: 0.594191\n",
      "         Iterations 5\n",
      "                           Logit Regression Results                           \n",
      "==============================================================================\n",
      "Dep. Variable:     PV_tattling_new_yn   No. Observations:                   53\n",
      "Model:                          Logit   Df Residuals:                       51\n",
      "Method:                           MLE   Df Model:                            1\n",
      "Date:                Tue, 25 May 2021   Pseudo R-squ.:                0.002671\n",
      "Time:                        14:58:22   Log-Likelihood:                -31.492\n",
      "converged:                       True   LL-Null:                       -31.576\n",
      "Covariance Type:            nonrobust   LLR p-value:                    0.6813\n",
      "==============================================================================\n",
      "                 coef    std err          z      P>|z|      [0.025      0.975]\n",
      "------------------------------------------------------------------------------\n",
      "siblings       0.1650      0.401      0.412      0.681      -0.620       0.950\n",
      "constant      -1.1196      0.560     -1.999      0.046      -2.217      -0.022\n",
      "==============================================================================\n",
      "-- odds ratio:\n",
      "                OD\n",
      "siblings  1.179367\n",
      "constant  0.326410\n",
      "\n",
      "===============> PV_prosocial_new_yn: ===============> \n",
      "\n",
      "Optimization terminated successfully.\n",
      "         Current function value: 0.413258\n",
      "         Iterations 6\n",
      "                            Logit Regression Results                           \n",
      "===============================================================================\n",
      "Dep. Variable:     PV_prosocial_new_yn   No. Observations:                   53\n",
      "Model:                           Logit   Df Residuals:                       51\n",
      "Method:                            MLE   Df Model:                            1\n",
      "Date:                 Tue, 25 May 2021   Pseudo R-squ.:                 0.02612\n",
      "Time:                         14:58:22   Log-Likelihood:                -21.903\n",
      "converged:                        True   LL-Null:                       -22.490\n",
      "Covariance Type:             nonrobust   LLR p-value:                    0.2784\n",
      "==============================================================================\n",
      "                 coef    std err          z      P>|z|      [0.025      0.975]\n",
      "------------------------------------------------------------------------------\n",
      "siblings      -0.5951      0.574     -1.037      0.300      -1.720       0.530\n",
      "constant      -1.1200      0.654     -1.713      0.087      -2.401       0.161\n",
      "==============================================================================\n",
      "-- odds ratio:\n",
      "                OD\n",
      "siblings  0.551492\n",
      "constant  0.326278\n",
      "\n"
     ]
    }
   ],
   "source": [
    "for p in prosocial_columns:\n",
    "    print(f'===============> {p}: ===============> \\n')\n",
    "\n",
    "    X_train = df_select[brosis_column + ['constant']]\n",
    "    y_train = df_select[[p]] \n",
    "    model = sm.Logit(y_train, X_train).fit() \n",
    "\n",
    "    print(model.summary())\n",
    "    \n",
    "    print('-- odds ratio:')\n",
    "    df_or = pd.DataFrame(np.exp(model.params), columns=['OD'])\n",
    "    print(df_or)\n",
    "    print('')"
   ]
  },
  {
   "cell_type": "markdown",
   "id": "textile-judgment",
   "metadata": {},
   "source": [
    "### check 3 ==> moderation brosis -> gender x pro-social ==> PROCESS"
   ]
  },
  {
   "cell_type": "code",
   "execution_count": 21,
   "id": "legitimate-public",
   "metadata": {},
   "outputs": [],
   "source": [
    "from pyprocessmacro import Process"
   ]
  },
  {
   "cell_type": "code",
   "execution_count": 22,
   "id": "changing-loading",
   "metadata": {},
   "outputs": [
    {
     "name": "stderr",
     "output_type": "stream",
     "text": [
      "/Users/simonvreugdenhil/dev/rb-ps-thesis/venv/lib/python3.8/site-packages/ipykernel/ipkernel.py:283: DeprecationWarning: `should_run_async` will not call `transform_cell` automatically in the future. Please pass the result to `transformed_cell` argument and any exception that happen during thetransform in `preprocessing_exc_tuple` in IPython 7.17 and above.\n",
      "  and should_run_async(code)\n"
     ]
    }
   ],
   "source": [
    "df_select['gender_01'] = 0\n",
    "df_select.loc[lambda x: x['gender']==2, 'gender_01'] = 1"
   ]
  },
  {
   "cell_type": "code",
   "execution_count": 23,
   "id": "further-queue",
   "metadata": {},
   "outputs": [
    {
     "name": "stderr",
     "output_type": "stream",
     "text": [
      "/Users/simonvreugdenhil/dev/rb-ps-thesis/venv/lib/python3.8/site-packages/ipykernel/ipkernel.py:283: DeprecationWarning: `should_run_async` will not call `transform_cell` automatically in the future. Please pass the result to `transformed_cell` argument and any exception that happen during thetransform in `preprocessing_exc_tuple` in IPython 7.17 and above.\n",
      "  and should_run_async(code)\n"
     ]
    },
    {
     "data": {
      "text/html": [
       "<div>\n",
       "<style scoped>\n",
       "    .dataframe tbody tr th:only-of-type {\n",
       "        vertical-align: middle;\n",
       "    }\n",
       "\n",
       "    .dataframe tbody tr th {\n",
       "        vertical-align: top;\n",
       "    }\n",
       "\n",
       "    .dataframe thead th {\n",
       "        text-align: right;\n",
       "    }\n",
       "</style>\n",
       "<table border=\"1\" class=\"dataframe\">\n",
       "  <thead>\n",
       "    <tr style=\"text-align: right;\">\n",
       "      <th></th>\n",
       "      <th>gender</th>\n",
       "      <th>siblings</th>\n",
       "      <th>PV_protest_new_yn</th>\n",
       "      <th>PV_tattling_new_yn</th>\n",
       "      <th>PV_prosocial_new_yn</th>\n",
       "      <th>constant</th>\n",
       "      <th>siblings_yn</th>\n",
       "      <th>gender_01</th>\n",
       "    </tr>\n",
       "  </thead>\n",
       "  <tbody>\n",
       "    <tr>\n",
       "      <th>1</th>\n",
       "      <td>1</td>\n",
       "      <td>3</td>\n",
       "      <td>0</td>\n",
       "      <td>0</td>\n",
       "      <td>0</td>\n",
       "      <td>1</td>\n",
       "      <td>1</td>\n",
       "      <td>0</td>\n",
       "    </tr>\n",
       "    <tr>\n",
       "      <th>2</th>\n",
       "      <td>2</td>\n",
       "      <td>1</td>\n",
       "      <td>0</td>\n",
       "      <td>0</td>\n",
       "      <td>0</td>\n",
       "      <td>1</td>\n",
       "      <td>1</td>\n",
       "      <td>1</td>\n",
       "    </tr>\n",
       "    <tr>\n",
       "      <th>3</th>\n",
       "      <td>1</td>\n",
       "      <td>2</td>\n",
       "      <td>0</td>\n",
       "      <td>0</td>\n",
       "      <td>0</td>\n",
       "      <td>1</td>\n",
       "      <td>1</td>\n",
       "      <td>0</td>\n",
       "    </tr>\n",
       "    <tr>\n",
       "      <th>4</th>\n",
       "      <td>2</td>\n",
       "      <td>1</td>\n",
       "      <td>0</td>\n",
       "      <td>0</td>\n",
       "      <td>0</td>\n",
       "      <td>1</td>\n",
       "      <td>1</td>\n",
       "      <td>1</td>\n",
       "    </tr>\n",
       "    <tr>\n",
       "      <th>5</th>\n",
       "      <td>1</td>\n",
       "      <td>1</td>\n",
       "      <td>0</td>\n",
       "      <td>0</td>\n",
       "      <td>0</td>\n",
       "      <td>1</td>\n",
       "      <td>1</td>\n",
       "      <td>0</td>\n",
       "    </tr>\n",
       "  </tbody>\n",
       "</table>\n",
       "</div>"
      ],
      "text/plain": [
       "   gender  siblings  PV_protest_new_yn  PV_tattling_new_yn  \\\n",
       "1       1         3                  0                   0   \n",
       "2       2         1                  0                   0   \n",
       "3       1         2                  0                   0   \n",
       "4       2         1                  0                   0   \n",
       "5       1         1                  0                   0   \n",
       "\n",
       "   PV_prosocial_new_yn  constant  siblings_yn  gender_01  \n",
       "1                    0         1            1          0  \n",
       "2                    0         1            1          1  \n",
       "3                    0         1            1          0  \n",
       "4                    0         1            1          1  \n",
       "5                    0         1            1          0  "
      ]
     },
     "execution_count": 23,
     "metadata": {},
     "output_type": "execute_result"
    }
   ],
   "source": [
    "df_select[:5]"
   ]
  },
  {
   "cell_type": "code",
   "execution_count": 24,
   "id": "located-cheese",
   "metadata": {},
   "outputs": [
    {
     "name": "stdout",
     "output_type": "stream",
     "text": [
      "==> PV_protest_new_yn: ==>\n",
      "\n",
      " \n",
      "\n",
      "***************************** OUTCOME MODELS ****************************\n",
      "\n",
      "\n",
      "**************************************************************************\n",
      "Outcome = PV_protest_new_yn \n",
      "Logistic Regression Summary\n",
      "\n",
      "    -2LL  Model LL  p-value  McFadden  Cox-Snell  Nagelkerke   n\n",
      " 53.5305    0.6025   0.8958    0.0111     0.0113      0.0177  53\n",
      "\n",
      "Coefficients\n",
      "\n",
      "                     coeff     se       Z      p    LLCI    ULCI\n",
      "Cons               -1.5704 0.7222 -2.1745 0.0297 -2.9858 -0.1550\n",
      "gender_01          -0.5755 1.6897 -0.3406 0.7334 -3.8872  2.7361\n",
      "siblings            0.2518 0.4697  0.5362 0.5918 -0.6687  1.1723\n",
      "gender_01*siblings  0.3394 1.2556  0.2703 0.7869 -2.1215  2.8002\n",
      "\n",
      "-------------------------------------------------------------------------\n",
      "\n",
      "\n",
      "********************** CONDITIONAL EFFECTS **********************\n",
      "\n",
      "Conditional effect(s) of gender_01 on PV_protest_new_yn at values of the moderator(s):\n",
      "\n",
      "  siblings  Effect     SE       Z      p    LLCI   ULCI\n",
      "    0.0000 -0.5755 1.6897 -0.3406 0.7334 -3.8872 2.7361\n",
      "    1.0000 -0.2362 0.7587 -0.3112 0.7556 -1.7233 1.2509\n",
      "    2.0000  0.1032 1.2039  0.0857 0.9317 -2.2564 2.4628\n",
      "    3.0000  0.4426 2.3401  0.1891 0.8500 -4.1439 5.0290\n",
      "\n",
      "None\n",
      "\n",
      "\n",
      "==> PV_tattling_new_yn: ==>\n",
      "\n",
      " \n",
      "\n",
      "***************************** OUTCOME MODELS ****************************\n",
      "\n",
      "\n",
      "**************************************************************************\n",
      "Outcome = PV_tattling_new_yn \n",
      "Logistic Regression Summary\n",
      "\n",
      "    -2LL  Model LL  p-value  McFadden  Cox-Snell  Nagelkerke   n\n",
      " 61.3109    1.8420   0.6058    0.0292     0.0342      0.0491  53\n",
      "\n",
      "Coefficients\n",
      "\n",
      "                     coeff     se       Z      p    LLCI   ULCI\n",
      "Cons               -0.7695 0.6056 -1.2707 0.2038 -1.9564 0.4174\n",
      "gender_01          -1.3764 1.6432 -0.8376 0.4023 -4.5970 1.8443\n",
      "siblings            0.1080 0.4148  0.2603 0.7946 -0.7049 0.9209\n",
      "gender_01*siblings  0.4832 1.2361  0.3909 0.6959 -1.9395 2.9059\n",
      "\n",
      "-------------------------------------------------------------------------\n",
      "\n",
      "\n",
      "********************** CONDITIONAL EFFECTS **********************\n",
      "\n",
      "Conditional effect(s) of gender_01 on PV_tattling_new_yn at values of the moderator(s):\n",
      "\n",
      "  siblings  Effect     SE       Z      p    LLCI   ULCI\n",
      "    0.0000 -1.3764 1.6432 -0.8376 0.4023 -4.5970 1.8443\n",
      "    1.0000 -0.8931 0.7222 -1.2367 0.2162 -2.3087 0.5224\n",
      "    2.0000 -0.4099 1.1827 -0.3466 0.7289 -2.7280 1.9082\n",
      "    3.0000  0.0733 2.3091  0.0317 0.9747 -4.4524 4.5990\n",
      "\n",
      "None\n",
      "\n",
      "\n",
      "==> PV_prosocial_new_yn: ==>\n",
      "\n",
      " \n",
      "\n",
      "***************************** OUTCOME MODELS ****************************\n",
      "\n",
      "\n",
      "**************************************************************************\n",
      "Outcome = PV_prosocial_new_yn \n",
      "Logistic Regression Summary\n",
      "\n",
      "    -2LL  Model LL  p-value  McFadden  Cox-Snell  Nagelkerke   n\n",
      " 42.0320    2.9483   0.3997    0.0655     0.0541      0.0946  53\n",
      "\n",
      "Coefficients\n",
      "\n",
      "                     coeff     se       Z      p    LLCI   ULCI\n",
      "Cons               -0.8042 0.7072 -1.1373 0.2554 -2.1903 0.5818\n",
      "gender_01          -2.1668 1.9086 -1.1353 0.2562 -5.9075 1.5739\n",
      "siblings           -1.0004 0.7288 -1.3726 0.1699 -2.4288 0.4281\n",
      "gender_01*siblings  1.9686 1.4749  1.3347 0.1820 -0.9222 4.8593\n",
      "\n",
      "-------------------------------------------------------------------------\n",
      "\n",
      "\n",
      "********************** CONDITIONAL EFFECTS **********************\n",
      "\n",
      "Conditional effect(s) of gender_01 on PV_prosocial_new_yn at values of the moderator(s):\n",
      "\n",
      "  siblings  Effect     SE       Z      p    LLCI   ULCI\n",
      "    0.0000 -2.1668 1.9086 -1.1353 0.2562 -5.9075 1.5739\n",
      "    1.0000 -0.1982 0.9222 -0.2150 0.8298 -2.0057 1.6092\n",
      "    2.0000  1.7703 1.5521  1.1406 0.2540 -1.2717 4.8123\n",
      "    3.0000  3.7389 2.8841  1.2964 0.1948 -1.9139 9.3916\n",
      "\n",
      "None\n",
      "\n",
      "\n"
     ]
    },
    {
     "name": "stderr",
     "output_type": "stream",
     "text": [
      "/Users/simonvreugdenhil/dev/rb-ps-thesis/venv/lib/python3.8/site-packages/ipykernel/ipkernel.py:283: DeprecationWarning: `should_run_async` will not call `transform_cell` automatically in the future. Please pass the result to `transformed_cell` argument and any exception that happen during thetransform in `preprocessing_exc_tuple` in IPython 7.17 and above.\n",
      "  and should_run_async(code)\n"
     ]
    }
   ],
   "source": [
    "for p in prosocial_columns:\n",
    "    print(f'==> {p}: ==>\\n')\n",
    "    print(' ')\n",
    "    model = Process(\n",
    "                data=df_select,\n",
    "                model=1,\n",
    "                x=\"gender_01\",\n",
    "                y=p,\n",
    "                m=[\"siblings\"],\n",
    "                logit=True,\n",
    "                suppr_init=True,\n",
    "                   )\n",
    "\n",
    "    print(model.summary())\n",
    "    print('\\n')"
   ]
  },
  {
   "cell_type": "markdown",
   "id": "fresh-faculty",
   "metadata": {},
   "source": [
    "### check 4 (extra) ==> moderation gender -> brosis x pro-social ==> PROCESS"
   ]
  },
  {
   "cell_type": "code",
   "execution_count": 26,
   "id": "extensive-content",
   "metadata": {},
   "outputs": [
    {
     "name": "stdout",
     "output_type": "stream",
     "text": [
      "==> PV_protest_new_yn: ==>\n",
      "\n",
      " \n",
      "\n",
      "***************************** OUTCOME MODELS ****************************\n",
      "\n",
      "\n",
      "**************************************************************************\n",
      "Outcome = PV_protest_new_yn \n",
      "Logistic Regression Summary\n",
      "\n",
      "    -2LL  Model LL  p-value  McFadden  Cox-Snell  Nagelkerke   n\n",
      " 53.5305    0.6025   0.8958    0.0111     0.0113      0.0177  53\n",
      "\n",
      "Coefficients\n",
      "\n",
      "                     coeff     se       Z      p    LLCI    ULCI\n",
      "Cons               -1.5704 0.7222 -2.1745 0.0297 -2.9858 -0.1550\n",
      "siblings            0.2518 0.4697  0.5362 0.5918 -0.6687  1.1723\n",
      "gender_01          -0.5755 1.6897 -0.3406 0.7334 -3.8872  2.7361\n",
      "siblings*gender_01  0.3394 1.2556  0.2703 0.7869 -2.1215  2.8002\n",
      "\n",
      "-------------------------------------------------------------------------\n",
      "\n",
      "\n",
      "********************** CONDITIONAL EFFECTS **********************\n",
      "\n",
      "Conditional effect(s) of siblings on PV_protest_new_yn at values of the moderator(s):\n",
      "\n",
      "  gender_01  Effect     SE      Z      p    LLCI   ULCI\n",
      "     0.0000  0.2518 0.4697 0.5362 0.5918 -0.6687 1.1723\n",
      "     1.0000  0.5912 1.1644 0.5077 0.6117 -1.6910 2.8734\n",
      "\n",
      "None\n",
      "\n",
      "\n",
      "==> PV_tattling_new_yn: ==>\n",
      "\n",
      " \n",
      "\n",
      "***************************** OUTCOME MODELS ****************************\n",
      "\n",
      "\n",
      "**************************************************************************\n",
      "Outcome = PV_tattling_new_yn \n",
      "Logistic Regression Summary\n",
      "\n",
      "    -2LL  Model LL  p-value  McFadden  Cox-Snell  Nagelkerke   n\n",
      " 61.3109    1.8420   0.6058    0.0292     0.0342      0.0491  53\n",
      "\n",
      "Coefficients\n",
      "\n",
      "                     coeff     se       Z      p    LLCI   ULCI\n",
      "Cons               -0.7695 0.6056 -1.2707 0.2038 -1.9564 0.4174\n",
      "siblings            0.1080 0.4148  0.2603 0.7946 -0.7049 0.9209\n",
      "gender_01          -1.3764 1.6432 -0.8376 0.4023 -4.5970 1.8443\n",
      "siblings*gender_01  0.4832 1.2361  0.3909 0.6959 -1.9395 2.9059\n",
      "\n",
      "-------------------------------------------------------------------------\n",
      "\n",
      "\n",
      "********************** CONDITIONAL EFFECTS **********************\n",
      "\n",
      "Conditional effect(s) of siblings on PV_tattling_new_yn at values of the moderator(s):\n",
      "\n",
      "  gender_01  Effect     SE      Z      p    LLCI   ULCI\n",
      "     0.0000  0.1080 0.4148 0.2603 0.7946 -0.7049 0.9209\n",
      "     1.0000  0.5912 1.1644 0.5077 0.6117 -1.6910 2.8734\n",
      "\n",
      "None\n",
      "\n",
      "\n",
      "==> PV_prosocial_new_yn: ==>\n",
      "\n",
      " \n",
      "\n",
      "***************************** OUTCOME MODELS ****************************\n",
      "\n",
      "\n",
      "**************************************************************************\n",
      "Outcome = PV_prosocial_new_yn \n",
      "Logistic Regression Summary\n",
      "\n",
      "    -2LL  Model LL  p-value  McFadden  Cox-Snell  Nagelkerke   n\n",
      " 42.0320    2.9483   0.3997    0.0655     0.0541      0.0946  53\n",
      "\n",
      "Coefficients\n",
      "\n",
      "                     coeff     se       Z      p    LLCI   ULCI\n",
      "Cons               -0.8042 0.7072 -1.1373 0.2554 -2.1903 0.5818\n",
      "siblings           -1.0004 0.7288 -1.3726 0.1699 -2.4288 0.4281\n",
      "gender_01          -2.1668 1.9086 -1.1353 0.2562 -5.9075 1.5739\n",
      "siblings*gender_01  1.9686 1.4749  1.3347 0.1820 -0.9222 4.8593\n",
      "\n",
      "-------------------------------------------------------------------------\n",
      "\n",
      "\n",
      "********************** CONDITIONAL EFFECTS **********************\n",
      "\n",
      "Conditional effect(s) of siblings on PV_prosocial_new_yn at values of the moderator(s):\n",
      "\n",
      "  gender_01  Effect     SE       Z      p    LLCI   ULCI\n",
      "     0.0000 -1.0004 0.7288 -1.3726 0.1699 -2.4288 0.4281\n",
      "     1.0000  0.9682 1.2823  0.7551 0.4502 -1.5450 3.4814\n",
      "\n",
      "None\n",
      "\n",
      "\n"
     ]
    },
    {
     "name": "stderr",
     "output_type": "stream",
     "text": [
      "/Users/simonvreugdenhil/dev/rb-ps-thesis/venv/lib/python3.8/site-packages/ipykernel/ipkernel.py:283: DeprecationWarning: `should_run_async` will not call `transform_cell` automatically in the future. Please pass the result to `transformed_cell` argument and any exception that happen during thetransform in `preprocessing_exc_tuple` in IPython 7.17 and above.\n",
      "  and should_run_async(code)\n"
     ]
    }
   ],
   "source": [
    "for p in prosocial_columns:\n",
    "    print(f'==> {p}: ==>\\n')\n",
    "    print(' ')\n",
    "    model = Process(data=df_select,\n",
    "                    model=1,\n",
    "                    x=\"siblings\",\n",
    "                    y=p,\n",
    "                    m=[\"gender_01\"],\n",
    "                    logit=True,\n",
    "                    suppr_init=True,)\n",
    "\n",
    "    print(model.summary())\n",
    "    print('\\n')"
   ]
  }
 ],
 "metadata": {
  "kernelspec": {
   "display_name": "Python 3",
   "language": "python",
   "name": "python3"
  },
  "language_info": {
   "codemirror_mode": {
    "name": "ipython",
    "version": 3
   },
   "file_extension": ".py",
   "mimetype": "text/x-python",
   "name": "python",
   "nbconvert_exporter": "python",
   "pygments_lexer": "ipython3",
   "version": "3.8.9"
  }
 },
 "nbformat": 4,
 "nbformat_minor": 5
}
