{
 "cells": [
  {
   "cell_type": "code",
   "execution_count": 1,
   "id": "painful-constitution",
   "metadata": {},
   "outputs": [],
   "source": [
    "import pandas as pd\n",
    "import csv\n",
    "from scipy.stats import ttest_ind, chi2_contingency\n",
    "import statsmodels.api as sm"
   ]
  },
  {
   "cell_type": "code",
   "execution_count": 2,
   "id": "ultimate-cross",
   "metadata": {},
   "outputs": [],
   "source": [
    "df = pd.read_csv('../data/v2_BabyStudy2_16jan21.csv', sep=';')"
   ]
  },
  {
   "cell_type": "code",
   "execution_count": 3,
   "id": "simplified-sending",
   "metadata": {},
   "outputs": [
    {
     "data": {
      "text/plain": [
       "54"
      ]
     },
     "execution_count": 3,
     "metadata": {},
     "output_type": "execute_result"
    }
   ],
   "source": [
    "len(df)"
   ]
  },
  {
   "cell_type": "code",
   "execution_count": 4,
   "id": "bigger-surge",
   "metadata": {},
   "outputs": [],
   "source": [
    "gender_column = ['gender']\n",
    "brosis_column = ['siblings']\n",
    "prosocial_columns = [\n",
    "    'PV_protest_new_yn',\n",
    "    'PV_tattling_new_yn',\n",
    "    'PV_prosocial_new_yn',\n",
    "]\n",
    "needed_columns = gender_column + brosis_column + prosocial_columns"
   ]
  },
  {
   "cell_type": "code",
   "execution_count": 5,
   "id": "twenty-nursery",
   "metadata": {},
   "outputs": [],
   "source": [
    "for c in needed_columns:\n",
    "    df = df.loc[lambda x: ~x[c].isnull()]\n",
    "    df = df.loc[lambda x: x[c]!='']\n",
    "    df = df.loc[lambda x: x[c]!=' ']\n",
    "    df[c] = df[c].astype(int)"
   ]
  },
  {
   "cell_type": "code",
   "execution_count": 6,
   "id": "legislative-judges",
   "metadata": {},
   "outputs": [],
   "source": [
    "df_select = df[needed_columns].copy()\n",
    "df_select['constant'] = 1\n",
    "df_select['siblings_yn'] = 0\n",
    "df_select.loc[lambda x: x['siblings']>0, 'siblings_yn'] = 1"
   ]
  },
  {
   "cell_type": "code",
   "execution_count": 7,
   "id": "latter-ordinance",
   "metadata": {},
   "outputs": [],
   "source": [
    "df.to_csv('../data/v2_BabyStudy2_16jan21_clean.csv', index=False, quoting=csv.QUOTE_NONNUMERIC, quotechar='\"')"
   ]
  },
  {
   "cell_type": "code",
   "execution_count": 8,
   "id": "saving-lebanon",
   "metadata": {},
   "outputs": [
    {
     "data": {
      "text/plain": [
       "53"
      ]
     },
     "execution_count": 8,
     "metadata": {},
     "output_type": "execute_result"
    }
   ],
   "source": [
    "len(df)"
   ]
  },
  {
   "cell_type": "markdown",
   "id": "square-credits",
   "metadata": {},
   "source": [
    "### check 0 ==> general checks"
   ]
  },
  {
   "cell_type": "code",
   "execution_count": 9,
   "id": "olive-adoption",
   "metadata": {},
   "outputs": [
    {
     "data": {
      "text/html": [
       "<div>\n",
       "<style scoped>\n",
       "    .dataframe tbody tr th:only-of-type {\n",
       "        vertical-align: middle;\n",
       "    }\n",
       "\n",
       "    .dataframe tbody tr th {\n",
       "        vertical-align: top;\n",
       "    }\n",
       "\n",
       "    .dataframe thead th {\n",
       "        text-align: right;\n",
       "    }\n",
       "</style>\n",
       "<table border=\"1\" class=\"dataframe\">\n",
       "  <thead>\n",
       "    <tr style=\"text-align: right;\">\n",
       "      <th></th>\n",
       "      <th>gender</th>\n",
       "      <th>siblings</th>\n",
       "      <th>PV_protest_new_yn</th>\n",
       "      <th>PV_tattling_new_yn</th>\n",
       "      <th>PV_prosocial_new_yn</th>\n",
       "      <th>constant</th>\n",
       "      <th>siblings_yn</th>\n",
       "    </tr>\n",
       "  </thead>\n",
       "  <tbody>\n",
       "    <tr>\n",
       "      <th>1</th>\n",
       "      <td>1</td>\n",
       "      <td>3</td>\n",
       "      <td>0</td>\n",
       "      <td>0</td>\n",
       "      <td>0</td>\n",
       "      <td>1</td>\n",
       "      <td>1</td>\n",
       "    </tr>\n",
       "    <tr>\n",
       "      <th>2</th>\n",
       "      <td>2</td>\n",
       "      <td>1</td>\n",
       "      <td>0</td>\n",
       "      <td>0</td>\n",
       "      <td>0</td>\n",
       "      <td>1</td>\n",
       "      <td>1</td>\n",
       "    </tr>\n",
       "    <tr>\n",
       "      <th>3</th>\n",
       "      <td>1</td>\n",
       "      <td>2</td>\n",
       "      <td>0</td>\n",
       "      <td>0</td>\n",
       "      <td>0</td>\n",
       "      <td>1</td>\n",
       "      <td>1</td>\n",
       "    </tr>\n",
       "    <tr>\n",
       "      <th>4</th>\n",
       "      <td>2</td>\n",
       "      <td>1</td>\n",
       "      <td>0</td>\n",
       "      <td>0</td>\n",
       "      <td>0</td>\n",
       "      <td>1</td>\n",
       "      <td>1</td>\n",
       "    </tr>\n",
       "    <tr>\n",
       "      <th>5</th>\n",
       "      <td>1</td>\n",
       "      <td>1</td>\n",
       "      <td>0</td>\n",
       "      <td>0</td>\n",
       "      <td>0</td>\n",
       "      <td>1</td>\n",
       "      <td>1</td>\n",
       "    </tr>\n",
       "  </tbody>\n",
       "</table>\n",
       "</div>"
      ],
      "text/plain": [
       "   gender  siblings  PV_protest_new_yn  PV_tattling_new_yn  \\\n",
       "1       1         3                  0                   0   \n",
       "2       2         1                  0                   0   \n",
       "3       1         2                  0                   0   \n",
       "4       2         1                  0                   0   \n",
       "5       1         1                  0                   0   \n",
       "\n",
       "   PV_prosocial_new_yn  constant  siblings_yn  \n",
       "1                    0         1            1  \n",
       "2                    0         1            1  \n",
       "3                    0         1            1  \n",
       "4                    0         1            1  \n",
       "5                    0         1            1  "
      ]
     },
     "execution_count": 9,
     "metadata": {},
     "output_type": "execute_result"
    }
   ],
   "source": [
    "df_select[:5]"
   ]
  },
  {
   "cell_type": "code",
   "execution_count": 10,
   "id": "variable-henry",
   "metadata": {},
   "outputs": [
    {
     "data": {
      "text/plain": [
       "PV_protest_new_yn\n",
       "0    42\n",
       "1    11\n",
       "Name: gender, dtype: int64"
      ]
     },
     "execution_count": 10,
     "metadata": {},
     "output_type": "execute_result"
    }
   ],
   "source": [
    "df_select.groupby('PV_protest_new_yn')['gender'].count()"
   ]
  },
  {
   "cell_type": "markdown",
   "id": "documentary-nudist",
   "metadata": {},
   "source": [
    "### check 1 ==> gender x pro-social ==> indepedent sample T test"
   ]
  },
  {
   "cell_type": "code",
   "execution_count": 11,
   "id": "handmade-queue",
   "metadata": {},
   "outputs": [],
   "source": [
    "group1_male = df_select.loc[lambda x: x['gender']==1].copy()\n",
    "group2_female = df_select.loc[lambda x: x['gender']==2].copy()"
   ]
  },
  {
   "cell_type": "markdown",
   "id": "organizational-absolute",
   "metadata": {},
   "source": [
    "#### - t test"
   ]
  },
  {
   "cell_type": "code",
   "execution_count": 12,
   "id": "agricultural-botswana",
   "metadata": {},
   "outputs": [
    {
     "name": "stdout",
     "output_type": "stream",
     "text": [
      "-> PV_protest_new_yn:\n",
      "==> t-statistic 0.8085\n",
      "==> P-value 0.8085\n",
      "\n",
      "-> PV_tattling_new_yn:\n",
      "==> t-statistic 0.2336\n",
      "==> P-value 0.2336\n",
      "\n",
      "-> PV_prosocial_new_yn:\n",
      "==> t-statistic 0.8965\n",
      "==> P-value 0.8965\n",
      "\n"
     ]
    }
   ],
   "source": [
    "for p in prosocial_columns:\n",
    "    print(f'-> {p}:')\n",
    "    result = ttest_ind(group1_male[p], group2_female[p])\n",
    "    print(f'==> t-statistic {round(result[1], 4)}')\n",
    "    print(f'==> P-value {round(result[1], 4)}\\n')"
   ]
  },
  {
   "cell_type": "markdown",
   "id": "favorite-property",
   "metadata": {},
   "source": [
    "#### - chi square test"
   ]
  },
  {
   "cell_type": "code",
   "execution_count": 13,
   "id": "owned-prophet",
   "metadata": {},
   "outputs": [
    {
     "data": {
      "text/plain": [
       "gender  PV_prosocial_new_yn\n",
       "1       0                      27\n",
       "        1                       5\n",
       "2       0                      18\n",
       "        1                       3\n",
       "Name: siblings, dtype: int64"
      ]
     },
     "execution_count": 13,
     "metadata": {},
     "output_type": "execute_result"
    }
   ],
   "source": [
    "df_select.groupby(['gender', 'PV_prosocial_new_yn'])['siblings'].count()"
   ]
  },
  {
   "cell_type": "code",
   "execution_count": 14,
   "id": "eleven-gender",
   "metadata": {},
   "outputs": [
    {
     "name": "stdout",
     "output_type": "stream",
     "text": [
      "-> PV_protest_new_yn:\n",
      "==> P-value 0.9219\n",
      "\n",
      "-> PV_tattling_new_yn:\n",
      "==> P-value 0.3682\n",
      "\n",
      "-> PV_prosocial_new_yn:\n",
      "==> P-value 0.7956\n",
      "\n"
     ]
    }
   ],
   "source": [
    "for p in prosocial_columns:\n",
    "    print(f'-> {p}:')\n",
    "    crosstable = pd.crosstab(df_select['gender'], df[p]) \n",
    "    c, p, dof, expected = chi2_contingency(crosstable)\n",
    "    print(f'==> P-value {round(p, 4)}\\n')"
   ]
  },
  {
   "cell_type": "markdown",
   "id": "waiting-lambda",
   "metadata": {},
   "source": [
    "### check 2 ==> brosis x pro-social ==> logistic regression"
   ]
  },
  {
   "cell_type": "code",
   "execution_count": 15,
   "id": "spanish-hunger",
   "metadata": {},
   "outputs": [],
   "source": [
    "dfcheck = df_select.groupby(['siblings', 'PV_prosocial_new_yn'], as_index=False)[['gender']].count()"
   ]
  },
  {
   "cell_type": "code",
   "execution_count": 16,
   "id": "younger-whale",
   "metadata": {},
   "outputs": [],
   "source": [
    "for s in dfcheck['siblings'].unique():\n",
    "    dfcheck.loc[lambda x: x['siblings']==s, 'share'] = dfcheck.loc[lambda x: x['siblings']==s]['gender'] / dfcheck.loc[lambda x: x['siblings']==s]['gender'].sum()"
   ]
  },
  {
   "cell_type": "code",
   "execution_count": 17,
   "id": "efficient-check",
   "metadata": {},
   "outputs": [
    {
     "name": "stdout",
     "output_type": "stream",
     "text": [
      "==> PV_protest_new_yn: ==> \n",
      "\n",
      "Optimization terminated successfully.\n",
      "         Current function value: 0.506217\n",
      "         Iterations 5\n",
      "                           Logit Regression Results                           \n",
      "==============================================================================\n",
      "Dep. Variable:      PV_protest_new_yn   No. Observations:                   53\n",
      "Model:                          Logit   Df Residuals:                       51\n",
      "Method:                           MLE   Df Model:                            1\n",
      "Date:                Fri, 21 May 2021   Pseudo R-squ.:                0.008757\n",
      "Time:                        22:10:26   Log-Likelihood:                -26.829\n",
      "converged:                       True   LL-Null:                       -27.066\n",
      "Covariance Type:            nonrobust   LLR p-value:                    0.4911\n",
      "==============================================================================\n",
      "                 coef    std err          z      P>|z|      [0.025      0.975]\n",
      "------------------------------------------------------------------------------\n",
      "siblings       0.3041      0.440      0.692      0.489      -0.557       1.166\n",
      "constant      -1.6992      0.639     -2.658      0.008      -2.952      -0.446\n",
      "==============================================================================\n",
      "\n",
      "\n",
      "==> PV_tattling_new_yn: ==> \n",
      "\n",
      "Optimization terminated successfully.\n",
      "         Current function value: 0.594191\n",
      "         Iterations 5\n",
      "                           Logit Regression Results                           \n",
      "==============================================================================\n",
      "Dep. Variable:     PV_tattling_new_yn   No. Observations:                   53\n",
      "Model:                          Logit   Df Residuals:                       51\n",
      "Method:                           MLE   Df Model:                            1\n",
      "Date:                Fri, 21 May 2021   Pseudo R-squ.:                0.002671\n",
      "Time:                        22:10:26   Log-Likelihood:                -31.492\n",
      "converged:                       True   LL-Null:                       -31.576\n",
      "Covariance Type:            nonrobust   LLR p-value:                    0.6813\n",
      "==============================================================================\n",
      "                 coef    std err          z      P>|z|      [0.025      0.975]\n",
      "------------------------------------------------------------------------------\n",
      "siblings       0.1650      0.401      0.412      0.681      -0.620       0.950\n",
      "constant      -1.1196      0.560     -1.999      0.046      -2.217      -0.022\n",
      "==============================================================================\n",
      "\n",
      "\n",
      "==> PV_prosocial_new_yn: ==> \n",
      "\n",
      "Optimization terminated successfully.\n",
      "         Current function value: 0.413258\n",
      "         Iterations 6\n",
      "                            Logit Regression Results                           \n",
      "===============================================================================\n",
      "Dep. Variable:     PV_prosocial_new_yn   No. Observations:                   53\n",
      "Model:                           Logit   Df Residuals:                       51\n",
      "Method:                            MLE   Df Model:                            1\n",
      "Date:                 Fri, 21 May 2021   Pseudo R-squ.:                 0.02612\n",
      "Time:                         22:10:26   Log-Likelihood:                -21.903\n",
      "converged:                        True   LL-Null:                       -22.490\n",
      "Covariance Type:             nonrobust   LLR p-value:                    0.2784\n",
      "==============================================================================\n",
      "                 coef    std err          z      P>|z|      [0.025      0.975]\n",
      "------------------------------------------------------------------------------\n",
      "siblings      -0.5951      0.574     -1.037      0.300      -1.720       0.530\n",
      "constant      -1.1200      0.654     -1.713      0.087      -2.401       0.161\n",
      "==============================================================================\n",
      "\n",
      "\n"
     ]
    }
   ],
   "source": [
    "for p in prosocial_columns:\n",
    "    print(f'==> {p}: ==> \\n')\n",
    "\n",
    "    X_train = df_select[brosis_column + ['constant']]\n",
    "    y_train = df_select[[p]] \n",
    "    model = sm.Logit(y_train, X_train).fit() \n",
    "\n",
    "    print(model.summary())\n",
    "    print('\\n')"
   ]
  },
  {
   "cell_type": "markdown",
   "id": "patent-terrain",
   "metadata": {},
   "source": [
    "### check 3 ==> moderation brosis -> gender x pro-social ==> PROCESS"
   ]
  },
  {
   "cell_type": "code",
   "execution_count": 18,
   "id": "documented-leader",
   "metadata": {},
   "outputs": [],
   "source": [
    "from pyprocessmacro import Process"
   ]
  },
  {
   "cell_type": "code",
   "execution_count": 19,
   "id": "formed-massachusetts",
   "metadata": {},
   "outputs": [
    {
     "name": "stderr",
     "output_type": "stream",
     "text": [
      "/Users/simonvreugdenhil/dev/rb-ps-thesis/venv/lib/python3.8/site-packages/ipykernel/ipkernel.py:283: DeprecationWarning: `should_run_async` will not call `transform_cell` automatically in the future. Please pass the result to `transformed_cell` argument and any exception that happen during thetransform in `preprocessing_exc_tuple` in IPython 7.17 and above.\n",
      "  and should_run_async(code)\n"
     ]
    }
   ],
   "source": [
    "df_select['gender_01'] = 0\n",
    "df_select.loc[lambda x: x['gender']==2, 'gender_01'] = 1"
   ]
  },
  {
   "cell_type": "code",
   "execution_count": 22,
   "id": "above-nelson",
   "metadata": {},
   "outputs": [
    {
     "name": "stdout",
     "output_type": "stream",
     "text": [
      "==> PV_protest_new_yn: ==>\n",
      "\n",
      " \n",
      "\n",
      "***************************** OUTCOME MODELS ****************************\n",
      "\n",
      "Outcome = PV_protest_new_yn \n",
      "OLS Regression Summary\n",
      "\n",
      "     R²  Adj. R²    MSE      F  df1  df2  p-value\n",
      " 0.0067  -0.0760 0.1767 0.1106    3   49   0.9535\n",
      "\n",
      "Coefficients\n",
      "\n",
      "                        coeff     se       t      p    LLCI   ULCI\n",
      "Cons                   0.2500 0.1486  1.6822 0.0989 -0.0413 0.5413\n",
      "gender_01             -0.2500 0.4459 -0.5607 0.5775 -1.1239 0.6239\n",
      "siblings_yn           -0.0417 0.1716 -0.2428 0.8092 -0.3780 0.2947\n",
      "gender_01*siblings_yn  0.2417 0.4637  0.5212 0.6046 -0.6671 1.1504\n",
      "\n",
      "-------------------------------------------------------------------------\n",
      "\n",
      "\n",
      "********************** CONDITIONAL EFFECTS **********************\n",
      "\n",
      "Conditional effect(s) of gender_01 on PV_protest_new_yn at values of the moderator(s):\n",
      "\n",
      "  siblings_yn  Effect     SE       t      p    LLCI   ULCI\n",
      "       0.0000 -0.2500 0.4459 -0.5607 0.5775 -1.1239 0.6239\n",
      "       1.0000 -0.0083 0.1273 -0.0655 0.9481 -0.2578 0.2411\n",
      "\n",
      "None\n",
      "\n",
      "\n",
      "==> PV_tattling_new_yn: ==>\n",
      "\n",
      " \n",
      "\n",
      "***************************** OUTCOME MODELS ****************************\n",
      "\n",
      "Outcome = PV_tattling_new_yn \n",
      "OLS Regression Summary\n",
      "\n",
      "     R²  Adj. R²    MSE      F  df1  df2  p-value\n",
      " 0.0322  -0.0484 0.2124 0.5436    3   49   0.6548\n",
      "\n",
      "Coefficients\n",
      "\n",
      "                        coeff     se       t      p    LLCI   ULCI\n",
      "Cons                   0.3750 0.1629  2.3014 0.0257  0.0556 0.6944\n",
      "gender_01             -0.3750 0.4888 -0.7671 0.4467 -1.3331 0.5831\n",
      "siblings_yn           -0.0417 0.1882 -0.2214 0.8257 -0.4104 0.3271\n",
      "gender_01*siblings_yn  0.2417 0.5084  0.4754 0.6366 -0.7547 1.2380\n",
      "\n",
      "-------------------------------------------------------------------------\n",
      "\n",
      "\n",
      "********************** CONDITIONAL EFFECTS **********************\n",
      "\n",
      "Conditional effect(s) of gender_01 on PV_tattling_new_yn at values of the moderator(s):\n",
      "\n",
      "  siblings_yn  Effect     SE       t      p    LLCI   ULCI\n",
      "       0.0000 -0.3750 0.4888 -0.7671 0.4467 -1.3331 0.5831\n",
      "       1.0000 -0.1333 0.1395 -0.9555 0.3440 -0.4068 0.1402\n",
      "\n",
      "None\n",
      "\n",
      "\n",
      "==> PV_prosocial_new_yn: ==>\n",
      "\n",
      " \n",
      "\n",
      "***************************** OUTCOME MODELS ****************************\n",
      "\n",
      "Outcome = PV_prosocial_new_yn \n",
      "OLS Regression Summary\n",
      "\n",
      "     R²  Adj. R²    MSE      F  df1  df2  p-value\n",
      " 0.0786   0.0019 0.1277 1.3940    3   49   0.2558\n",
      "\n",
      "Coefficients\n",
      "\n",
      "                        coeff     se       t      p    LLCI    ULCI\n",
      "Cons                   0.3750 0.1264  2.9679 0.0046  0.1274  0.6226\n",
      "gender_01             -0.3750 0.3791 -0.9893 0.3274 -1.1179  0.3679\n",
      "siblings_yn           -0.2917 0.1459 -1.9991 0.0512 -0.5776 -0.0057\n",
      "gender_01*siblings_yn  0.4417 0.3942  1.1204 0.2680 -0.3310  1.2143\n",
      "\n",
      "-------------------------------------------------------------------------\n",
      "\n",
      "\n",
      "********************** CONDITIONAL EFFECTS **********************\n",
      "\n",
      "Conditional effect(s) of gender_01 on PV_prosocial_new_yn at values of the moderator(s):\n",
      "\n",
      "  siblings_yn  Effect     SE       t      p    LLCI   ULCI\n",
      "       0.0000 -0.3750 0.3791 -0.9893 0.3274 -1.1179 0.3679\n",
      "       1.0000  0.0667 0.1082  0.6161 0.5407 -0.1454 0.2787\n",
      "\n",
      "None\n",
      "\n",
      "\n"
     ]
    },
    {
     "name": "stderr",
     "output_type": "stream",
     "text": [
      "/Users/simonvreugdenhil/dev/rb-ps-thesis/venv/lib/python3.8/site-packages/ipykernel/ipkernel.py:283: DeprecationWarning: `should_run_async` will not call `transform_cell` automatically in the future. Please pass the result to `transformed_cell` argument and any exception that happen during thetransform in `preprocessing_exc_tuple` in IPython 7.17 and above.\n",
      "  and should_run_async(code)\n"
     ]
    }
   ],
   "source": [
    "for p in prosocial_columns:\n",
    "    print(f'==> {p}: ==>\\n')\n",
    "    print(' ')\n",
    "    model = Process(data=df_select,\n",
    "                    model=1,\n",
    "                    x=\"gender_01\",\n",
    "                    y=p,\n",
    "                    m=[\"siblings_yn\"],\n",
    "                    logic=True,\n",
    "                    suppr_init=True,\n",
    "                   )\n",
    "\n",
    "    print(model.summary())\n",
    "    print('\\n')"
   ]
  },
  {
   "cell_type": "markdown",
   "id": "visible-fusion",
   "metadata": {},
   "source": [
    "### check 4 (extra) ==> moderation gender -> brosis x pro-social ==> PROCESS"
   ]
  },
  {
   "cell_type": "code",
   "execution_count": 23,
   "id": "brown-thousand",
   "metadata": {},
   "outputs": [
    {
     "name": "stdout",
     "output_type": "stream",
     "text": [
      "==> PV_protest_new_yn: ==>\n",
      "\n",
      " \n",
      "\n",
      "***************************** OUTCOME MODELS ****************************\n",
      "\n",
      "Outcome = PV_protest_new_yn \n",
      "OLS Regression Summary\n",
      "\n",
      "     R²  Adj. R²    MSE      F  df1  df2  p-value\n",
      " 0.0067  -0.0760 0.1767 0.1106    3   49   0.9535\n",
      "\n",
      "Coefficients\n",
      "\n",
      "                        coeff     se       t      p    LLCI   ULCI\n",
      "Cons                   0.2500 0.1486  1.6822 0.0989 -0.0413 0.5413\n",
      "siblings_yn           -0.0417 0.1716 -0.2428 0.8092 -0.3780 0.2947\n",
      "gender_01             -0.2500 0.4459 -0.5607 0.5775 -1.1239 0.6239\n",
      "siblings_yn*gender_01  0.2417 0.4637  0.5212 0.6046 -0.6671 1.1504\n",
      "\n",
      "-------------------------------------------------------------------------\n",
      "\n",
      "\n",
      "********************** CONDITIONAL EFFECTS **********************\n",
      "\n",
      "Conditional effect(s) of siblings_yn on PV_protest_new_yn at values of the moderator(s):\n",
      "\n",
      "  gender_01  Effect     SE       t      p    LLCI   ULCI\n",
      "     0.0000 -0.0417 0.1716 -0.2428 0.8092 -0.3780 0.2947\n",
      "     1.0000  0.2000 0.4307  0.4643 0.6445 -0.6442 1.0442\n",
      "\n",
      "None\n",
      "\n",
      "\n",
      "==> PV_tattling_new_yn: ==>\n",
      "\n",
      " \n",
      "\n",
      "***************************** OUTCOME MODELS ****************************\n",
      "\n",
      "Outcome = PV_tattling_new_yn \n",
      "OLS Regression Summary\n",
      "\n",
      "     R²  Adj. R²    MSE      F  df1  df2  p-value\n",
      " 0.0322  -0.0484 0.2124 0.5436    3   49   0.6548\n",
      "\n",
      "Coefficients\n",
      "\n",
      "                        coeff     se       t      p    LLCI   ULCI\n",
      "Cons                   0.3750 0.1629  2.3014 0.0257  0.0556 0.6944\n",
      "siblings_yn           -0.0417 0.1882 -0.2214 0.8257 -0.4104 0.3271\n",
      "gender_01             -0.3750 0.4888 -0.7671 0.4467 -1.3331 0.5831\n",
      "siblings_yn*gender_01  0.2417 0.5084  0.4754 0.6366 -0.7547 1.2380\n",
      "\n",
      "-------------------------------------------------------------------------\n",
      "\n",
      "\n",
      "********************** CONDITIONAL EFFECTS **********************\n",
      "\n",
      "Conditional effect(s) of siblings_yn on PV_tattling_new_yn at values of the moderator(s):\n",
      "\n",
      "  gender_01  Effect     SE       t      p    LLCI   ULCI\n",
      "     0.0000 -0.0417 0.1882 -0.2214 0.8257 -0.4104 0.3271\n",
      "     1.0000  0.2000 0.4723  0.4235 0.6738 -0.7256 1.1256\n",
      "\n",
      "None\n",
      "\n",
      "\n",
      "==> PV_prosocial_new_yn: ==>\n",
      "\n",
      " \n",
      "\n",
      "***************************** OUTCOME MODELS ****************************\n",
      "\n",
      "Outcome = PV_prosocial_new_yn \n",
      "OLS Regression Summary\n",
      "\n",
      "     R²  Adj. R²    MSE      F  df1  df2  p-value\n",
      " 0.0786   0.0019 0.1277 1.3940    3   49   0.2558\n",
      "\n",
      "Coefficients\n",
      "\n",
      "                        coeff     se       t      p    LLCI    ULCI\n",
      "Cons                   0.3750 0.1264  2.9679 0.0046  0.1274  0.6226\n",
      "siblings_yn           -0.2917 0.1459 -1.9991 0.0512 -0.5776 -0.0057\n",
      "gender_01             -0.3750 0.3791 -0.9893 0.3274 -1.1179  0.3679\n",
      "siblings_yn*gender_01  0.4417 0.3942  1.1204 0.2680 -0.3310  1.2143\n",
      "\n",
      "-------------------------------------------------------------------------\n",
      "\n",
      "\n",
      "********************** CONDITIONAL EFFECTS **********************\n",
      "\n",
      "Conditional effect(s) of siblings_yn on PV_prosocial_new_yn at values of the moderator(s):\n",
      "\n",
      "  gender_01  Effect     SE       t      p    LLCI    ULCI\n",
      "     0.0000 -0.2917 0.1459 -1.9991 0.0512 -0.5776 -0.0057\n",
      "     1.0000  0.1500 0.3662  0.4096 0.6839 -0.5678  0.8678\n",
      "\n",
      "None\n",
      "\n",
      "\n"
     ]
    },
    {
     "name": "stderr",
     "output_type": "stream",
     "text": [
      "/Users/simonvreugdenhil/dev/rb-ps-thesis/venv/lib/python3.8/site-packages/ipykernel/ipkernel.py:283: DeprecationWarning: `should_run_async` will not call `transform_cell` automatically in the future. Please pass the result to `transformed_cell` argument and any exception that happen during thetransform in `preprocessing_exc_tuple` in IPython 7.17 and above.\n",
      "  and should_run_async(code)\n"
     ]
    }
   ],
   "source": [
    "for p in prosocial_columns:\n",
    "    print(f'==> {p}: ==>\\n')\n",
    "    print(' ')\n",
    "    model = Process(data=df_select,\n",
    "                    model=1,\n",
    "                    x=\"siblings_yn\",\n",
    "                    y=p,\n",
    "                    m=[\"gender_01\"],\n",
    "                    logic=True,\n",
    "                    suppr_init=True,)\n",
    "\n",
    "    print(model.summary())\n",
    "    print('\\n')"
   ]
  }
 ],
 "metadata": {
  "kernelspec": {
   "display_name": "Python 3",
   "language": "python",
   "name": "python3"
  },
  "language_info": {
   "codemirror_mode": {
    "name": "ipython",
    "version": 3
   },
   "file_extension": ".py",
   "mimetype": "text/x-python",
   "name": "python",
   "nbconvert_exporter": "python",
   "pygments_lexer": "ipython3",
   "version": "3.8.9"
  }
 },
 "nbformat": 4,
 "nbformat_minor": 5
}
